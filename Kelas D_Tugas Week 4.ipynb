{
 "cells": [
  {
   "cell_type": "code",
   "execution_count": 1,
   "metadata": {},
   "outputs": [
    {
     "name": "stdout",
     "output_type": "stream",
     "text": [
      "Sania Amanati\n",
      "I0322115\n",
      "D\n"
     ]
    }
   ],
   "source": [
    "print(input(\"Nama: \"))\n",
    "print(input(\"NIM: \"))\n",
    "print(input(\"Kelas: \"))"
   ]
  },
  {
   "attachments": {},
   "cell_type": "markdown",
   "metadata": {},
   "source": [
    "## 1."
   ]
  },
  {
   "attachments": {},
   "cell_type": "markdown",
   "metadata": {},
   "source": [
    "Buatlah program yang menampilkan salam “Selamat Pagi” dari berbagai negara {Inggris, Perancis, Italia, Spanyol, Jepang, Korea} dengan dua input dari user yaitu bahasa dan diikuti nama user.<br>\n",
    "<br>Ex : \n",
    "<br>\"Ohayou, Onii Chan\"\n",
    "> *note: Kerjakan soal ini dengan percabangan*"
   ]
  },
  {
   "cell_type": "code",
   "execution_count": 3,
   "metadata": {},
   "outputs": [
    {
     "name": "stdout",
     "output_type": "stream",
     "text": [
      "Good morning, Sania\n"
     ]
    }
   ],
   "source": [
    "# Kerjakan soal nomor 1 disini\n",
    "\n",
    "bahasa = str(input(\"Masukkan negara\"))\n",
    "nama = str(input(\"Masukkan Nama anda\"))\n",
    "if bahasa == \"inggris\":\n",
    "    print(\"Good morning,\", nama)\n",
    "elif bahasa == \"perancis\":\n",
    "    print(\"Bonjour,\", nama)\n",
    "elif bahasa == \"italia\":\n",
    "    print(\"Buongiorno,\", nama)\n",
    "elif bahasa == \"spanyol\":\n",
    "    print(\"Buen día,\", nama)\n",
    "elif bahasa == \"jepang\":\n",
    "    print(\"Ohayou,\", nama)\n",
    "elif bahasa == \"korea\":\n",
    "    print(\"Joheun achimieyo,\", nama)"
   ]
  },
  {
   "attachments": {},
   "cell_type": "markdown",
   "metadata": {},
   "source": [
    "## 2."
   ]
  },
  {
   "attachments": {},
   "cell_type": "markdown",
   "metadata": {},
   "source": [
    "Buatlah program perhitungan umur dengan menggunakan input user yaitu tahun lahir dari user.<br>\n",
    "<br>Output yang dihasilkan adalah sebagai berikut:\n",
    "<br>\"Apakah anda berasal dari masa depan?\"\n",
    "<br>\"Anda barusaja lahir\"\n",
    "<br>\"Umur Anda adalah xx tahun\"\n",
    "> *note: Kerjakan soal ini dengan percabangan*"
   ]
  },
  {
   "cell_type": "code",
   "execution_count": 3,
   "metadata": {},
   "outputs": [
    {
     "name": "stdout",
     "output_type": "stream",
     "text": [
      "Umur anda adalah 19\n"
     ]
    }
   ],
   "source": [
    "# Kerjakan soal nomor 2 disini\n",
    "tahun_lahir = int(input(\"Masukkan tahun lahir anda\"))\n",
    "tahun_ini = 2023\n",
    "umur = tahun_ini - tahun_lahir\n",
    "if tahun_lahir>tahun_ini:\n",
    "    print(\"Apakah anda berasal dari masa depan?\")\n",
    "    print(\"Umur anda adalah \", umur)\n",
    "elif tahun_lahir==tahun_ini:\n",
    "    print(\"Anda baru saja lahir\")\n",
    "    print(\"Umur anda adalah \", umur)\n",
    "else :\n",
    "    print(\"Umur anda adalah\", umur)"
   ]
  }
 ],
 "metadata": {
  "kernelspec": {
   "display_name": "Python 3",
   "language": "python",
   "name": "python3"
  },
  "language_info": {
   "codemirror_mode": {
    "name": "ipython",
    "version": 3
   },
   "file_extension": ".py",
   "mimetype": "text/x-python",
   "name": "python",
   "nbconvert_exporter": "python",
   "pygments_lexer": "ipython3",
   "version": "3.10.7"
  },
  "orig_nbformat": 4
 },
 "nbformat": 4,
 "nbformat_minor": 2
}
