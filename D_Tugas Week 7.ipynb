{
 "cells": [
  {
   "cell_type": "code",
   "execution_count": 11,
   "metadata": {},
   "outputs": [
    {
     "name": "stdout",
     "output_type": "stream",
     "text": [
      "1 3 4 \n",
      "2 3 4 \n",
      "3 2 2 \n"
     ]
    },
    {
     "data": {
      "text/plain": [
       "[]"
      ]
     },
     "execution_count": 11,
     "metadata": {},
     "output_type": "execute_result"
    }
   ],
   "source": [
    "#Buatlah sebuah fungsi untuk membuat matrix berdasarkan input dari user\n",
    "\n",
    "def create_matrix(baris,kolom):\n",
    "    matrix = []\n",
    "\n",
    "    #Tulis kode kamu disini\n",
    "    return matrix\n",
    "baris = int(input('Masukkan Jumlah Baris:\\t'))\n",
    "kolom = int(input('Masukkan Jumlah Kolom:\\t'))\n",
    "   \n",
    "\n",
    "matriks = []\n",
    "for x in range(baris):\n",
    "    matriks.append([])\n",
    "\n",
    "    for y in range(kolom):\n",
    "        elemen = int(input(f\"Masukkan elemen matriks [{x}][{y}]:\"))\n",
    "        matriks[x].append(elemen)\n",
    "for x in range(baris):\n",
    "    for y in range(kolom):\n",
    "        print(matriks[x][y], end=\" \")\n",
    "    print()\n",
    "\n",
    "create_matrix(baris,kolom)"
   ]
  },
  {
   "cell_type": "code",
   "execution_count": 18,
   "metadata": {},
   "outputs": [
    {
     "data": {
      "text/plain": [
       "[]"
      ]
     },
     "execution_count": 18,
     "metadata": {},
     "output_type": "execute_result"
    }
   ],
   "source": [
    "#Buatlah sebuah fungsi untuk mencari invers matrix berdasarkan input matrix dari user\n",
    "\n",
    "def invers():\n",
    "    det = []\n",
    "\n",
    "    #Tulis kode kamu disini\n",
    "\n",
    "    baris = int(input(\"Masukkan jumlah baris: \"))\n",
    "    kolom = int(input(\"Masukkan jumlah kolom: \"))\n",
    "\n",
    "    matrix = []\n",
    "    for i in range(baris):\n",
    "        row = []\n",
    "        for j in range(kolom):\n",
    "            elemen = float(input(f\"Masukkan elemen ({i+1},{j+1}): \"))\n",
    "            row.append(elemen)\n",
    "        matrix.append(row)\n",
    "\n",
    "    create_matrix(baris, kolom)\n",
    "\n",
    "\n",
    "\n",
    "\n",
    "    return det\n",
    "\n",
    "invers()"
   ]
  },
  {
   "cell_type": "code",
   "execution_count": 17,
   "metadata": {},
   "outputs": [
    {
     "name": "stdout",
     "output_type": "stream",
     "text": [
      "Hasil pembagian matrix:\n",
      "[2.0, 3.0]\n",
      "[4.0, 2.0]\n"
     ]
    }
   ],
   "source": [
    "#Buatlah Fungsi untuk melakukan pembagian matrix antar matrix berdasarkan input user menggunakan nested loop\n",
    "\n",
    "def bagi_matrix(matrix1, skalar):\n",
    "    hasil = []\n",
    "\n",
    "    #Tulis kode kamu disini\n",
    "    for x in matrix1:\n",
    "        temp = []\n",
    "        for elem in x:\n",
    "            temp.append(elem/skalar)\n",
    "        hasil.append(temp)\n",
    "\n",
    "    return hasil\n",
    "\n",
    "baris = int(input(\"Masukkan jumlah baris: \"))\n",
    "kolom = int(input(\"Masukkan jumlah kolom: \"))\n",
    "\n",
    "matrix1 = []\n",
    "skalar = int(input('Matrix dibagi berapa?\\t'))\n",
    "\n",
    "for i in range(baris):\n",
    "    x = []\n",
    "    for j in range(kolom):\n",
    "        elem = int(input(f\"Masukkan elemen matriks pada baris {i+1} kolom {j+1}: \"))\n",
    "        x.append(elem)\n",
    "    matrix1.append(x)\n",
    "\n",
    "bagi_matrix(matrix1, skalar)\n",
    "\n",
    "hasil_pembagian = bagi_matrix(matrix1, skalar)\n",
    "print(\"Hasil pembagian matrix:\")\n",
    "for x in hasil_pembagian:\n",
    "    print(x)"
   ]
  }
 ],
 "metadata": {
  "kernelspec": {
   "display_name": "Python 3",
   "language": "python",
   "name": "python3"
  },
  "language_info": {
   "codemirror_mode": {
    "name": "ipython",
    "version": 3
   },
   "file_extension": ".py",
   "mimetype": "text/x-python",
   "name": "python",
   "nbconvert_exporter": "python",
   "pygments_lexer": "ipython3",
   "version": "3.10.7"
  },
  "orig_nbformat": 4
 },
 "nbformat": 4,
 "nbformat_minor": 2
}
